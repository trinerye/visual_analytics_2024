{
 "cells": [
  {
   "cell_type": "code",
   "execution_count": 26,
   "metadata": {},
   "outputs": [],
   "source": [
    "import os\n",
    "import cv2\n",
    "import numpy as np\n",
    "import pandas as pd\n",
    "import sys\n",
    "sys.path.append(\"..\")\n",
    "from utils.imutils import jimshow as show\n",
    "from utils.imutils import jimshow_channel as show_channel\n",
    "import matplotlib.pyplot as plt"
   ]
  },
  {
   "cell_type": "code",
   "execution_count": 42,
   "metadata": {},
   "outputs": [],
   "source": [
    " # Calculate histogram for each image and store it\n",
    " def compare_histograms(in_folderpath, image_files, chosen_normalized_hist):\n",
    "\n",
    "    image_names = []\n",
    "    results = []\n",
    "\n",
    "    for image_file in image_files:\n",
    "        image_path = os.path.join(in_folderpath, image_file)\n",
    "        image_names.append(image_file)\n",
    "        image = cv2.imread(image_path)\n",
    "        image_hist = cv2.calcHist([image], [0,1,2], None, [256,256,256], [0,256, 0,256, 0,256])\n",
    "        normalized_hist = cv2.normalize(image_hist, image_hist, 0, 1.0, cv2.NORM_MINMAX)\n",
    "        comparisons = round(cv2.compareHist(chosen_normalized_hist, normalized_hist, cv2.HISTCMP_CHISQR),2)\n",
    "        results.append(comparisons)\n"
   ]
  },
  {
   "cell_type": "code",
   "execution_count": 28,
   "metadata": {},
   "outputs": [],
   "source": [
    "def save_results(in_folderpath, out_folderpath, image_names, results):\n",
    "\n",
    "    df = pd.DataFrame({'Filename': image_names,'Distance': results})\n",
    "\n",
    "    df_sorted = df.sort_values(by=['Distance'], ascending=True).head(6)\n",
    "\n",
    "    # print(df_sorted['Distance'].max())\n",
    "    \n",
    "    # for i in range(len(df_sorted)):\n",
    "    #     image_path = os.path.join(in_folderpath, df_sorted.iloc[i]['Filename'])\n",
    "    #     image = cv2.imread(image_path)\n",
    "    #     show(image)\n",
    "\n",
    "    df_sorted.to_csv(os.path.join(out_folderpath, 'image_comparisons.csv'), index=False)"
   ]
  },
  {
   "cell_type": "code",
   "execution_count": 43,
   "metadata": {},
   "outputs": [
    {
     "ename": "NameError",
     "evalue": "name 'image_names' is not defined",
     "output_type": "error",
     "traceback": [
      "\u001b[0;31m---------------------------------------------------------------------------\u001b[0m",
      "\u001b[0;31mNameError\u001b[0m                                 Traceback (most recent call last)",
      "\u001b[1;32m/work/visual_analytics/visual_analytics_2024/assignment_1/src/assigment1.ipynb Cell 4\u001b[0m line \u001b[0;36m2\n\u001b[1;32m     <a href='vscode-notebook-cell://app-5023283-0.cloud.sdu.dk/work/visual_analytics/visual_analytics_2024/assignment_1/src/assigment1.ipynb#W1sdnNjb2RlLXJlbW90ZQ%3D%3D?line=24'>25</a>\u001b[0m     save_results(in_folderpath, out_folderpath, image_names, results)\n\u001b[1;32m     <a href='vscode-notebook-cell://app-5023283-0.cloud.sdu.dk/work/visual_analytics/visual_analytics_2024/assignment_1/src/assigment1.ipynb#W1sdnNjb2RlLXJlbW90ZQ%3D%3D?line=27'>28</a>\u001b[0m \u001b[39mif\u001b[39;00m \u001b[39m__name__\u001b[39m \u001b[39m==\u001b[39m \u001b[39m\"\u001b[39m\u001b[39m__main__\u001b[39m\u001b[39m\"\u001b[39m:\n\u001b[0;32m---> <a href='vscode-notebook-cell://app-5023283-0.cloud.sdu.dk/work/visual_analytics/visual_analytics_2024/assignment_1/src/assigment1.ipynb#W1sdnNjb2RlLXJlbW90ZQ%3D%3D?line=28'>29</a>\u001b[0m     main(\u001b[39m\"\u001b[39;49m\u001b[39m../in\u001b[39;49m\u001b[39m\"\u001b[39;49m, \u001b[39m\"\u001b[39;49m\u001b[39m../out\u001b[39;49m\u001b[39m\"\u001b[39;49m, \u001b[39m1356\u001b[39;49m)\n",
      "\u001b[1;32m/work/visual_analytics/visual_analytics_2024/assignment_1/src/assigment1.ipynb Cell 4\u001b[0m line \u001b[0;36m2\n\u001b[1;32m     <a href='vscode-notebook-cell://app-5023283-0.cloud.sdu.dk/work/visual_analytics/visual_analytics_2024/assignment_1/src/assigment1.ipynb#W1sdnNjb2RlLXJlbW90ZQ%3D%3D?line=12'>13</a>\u001b[0m compare_histograms(in_folderpath, image_files, chosen_normalized_hist)\n\u001b[1;32m     <a href='vscode-notebook-cell://app-5023283-0.cloud.sdu.dk/work/visual_analytics/visual_analytics_2024/assignment_1/src/assigment1.ipynb#W1sdnNjb2RlLXJlbW90ZQ%3D%3D?line=14'>15</a>\u001b[0m \u001b[39m# Calculate histogram for each image and store it\u001b[39;00m\n\u001b[1;32m     <a href='vscode-notebook-cell://app-5023283-0.cloud.sdu.dk/work/visual_analytics/visual_analytics_2024/assignment_1/src/assigment1.ipynb#W1sdnNjb2RlLXJlbW90ZQ%3D%3D?line=15'>16</a>\u001b[0m \u001b[39m# for image_file in image_files:\u001b[39;00m\n\u001b[1;32m     <a href='vscode-notebook-cell://app-5023283-0.cloud.sdu.dk/work/visual_analytics/visual_analytics_2024/assignment_1/src/assigment1.ipynb#W1sdnNjb2RlLXJlbW90ZQ%3D%3D?line=16'>17</a>\u001b[0m \u001b[39m#     image_path = os.path.join(in_folderpath, image_file)\u001b[39;00m\n\u001b[0;32m   (...)\u001b[0m\n\u001b[1;32m     <a href='vscode-notebook-cell://app-5023283-0.cloud.sdu.dk/work/visual_analytics/visual_analytics_2024/assignment_1/src/assigment1.ipynb#W1sdnNjb2RlLXJlbW90ZQ%3D%3D?line=21'>22</a>\u001b[0m \u001b[39m#     comparisons = round(cv2.compareHist(chosen_normalized_hist, normalized_hist, cv2.HISTCMP_CHISQR),2)\u001b[39;00m\n\u001b[1;32m     <a href='vscode-notebook-cell://app-5023283-0.cloud.sdu.dk/work/visual_analytics/visual_analytics_2024/assignment_1/src/assigment1.ipynb#W1sdnNjb2RlLXJlbW90ZQ%3D%3D?line=22'>23</a>\u001b[0m \u001b[39m#     results.append(comparisons)\u001b[39;00m\n\u001b[0;32m---> <a href='vscode-notebook-cell://app-5023283-0.cloud.sdu.dk/work/visual_analytics/visual_analytics_2024/assignment_1/src/assigment1.ipynb#W1sdnNjb2RlLXJlbW90ZQ%3D%3D?line=24'>25</a>\u001b[0m save_results(in_folderpath, out_folderpath, image_names, results)\n",
      "\u001b[0;31mNameError\u001b[0m: name 'image_names' is not defined"
     ]
    }
   ],
   "source": [
    "def main(in_folderpath, out_folderpath, image_index):\n",
    "    # Creates a sorted list of all the images within the given folder path\n",
    "    image_files = sorted(os.listdir(os.path.join(in_folderpath)))\n",
    "    chosen_image_path = os.path.join(in_folderpath, image_files[image_index])\n",
    "   \n",
    "    # image_names = []\n",
    "    # results = []\n",
    "\n",
    "    chosen_image = cv2.imread(chosen_image_path)\n",
    "    chosen_image_hist = cv2.calcHist([chosen_image], [0,1,2], None, [256,256,256], [0,256, 0,256, 0,256])\n",
    "    chosen_normalized_hist = cv2.normalize(chosen_image_hist, chosen_image_hist, 0, 1.0, cv2.NORM_MINMAX)\n",
    "    \n",
    "    compare_histograms(in_folderpath, image_files, chosen_normalized_hist)\n",
    "    \n",
    "    # Calculate histogram for each image and store it\n",
    "    # for image_file in image_files:\n",
    "    #     image_path = os.path.join(in_folderpath, image_file)\n",
    "    #     image_names.append(image_file)\n",
    "    #     image = cv2.imread(image_path)\n",
    "    #     image_hist = cv2.calcHist([image], [0,1,2], None, [256,256,256], [0,256, 0,256, 0,256])\n",
    "    #     normalized_hist = cv2.normalize(image_hist, image_hist, 0, 1.0, cv2.NORM_MINMAX)\n",
    "    #     comparisons = round(cv2.compareHist(chosen_normalized_hist, normalized_hist, cv2.HISTCMP_CHISQR),2)\n",
    "    #     results.append(comparisons)\n",
    "\n",
    "    save_results(in_folderpath, out_folderpath, image_names, results)\n",
    "\n",
    "\n",
    "if __name__ == \"__main__\":\n",
    "    main(\"../in\", \"../out\", 1356)"
   ]
  },
  {
   "cell_type": "code",
   "execution_count": null,
   "metadata": {},
   "outputs": [],
   "source": []
  }
 ],
 "metadata": {
  "kernelspec": {
   "display_name": "Python 3",
   "language": "python",
   "name": "python3"
  },
  "language_info": {
   "codemirror_mode": {
    "name": "ipython",
    "version": 3
   },
   "file_extension": ".py",
   "mimetype": "text/x-python",
   "name": "python",
   "nbconvert_exporter": "python",
   "pygments_lexer": "ipython3",
   "version": "3.10.12"
  }
 },
 "nbformat": 4,
 "nbformat_minor": 2
}
