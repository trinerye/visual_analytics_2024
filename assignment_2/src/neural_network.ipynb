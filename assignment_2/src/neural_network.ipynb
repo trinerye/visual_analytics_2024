{
 "cells": [
  {
   "cell_type": "code",
   "execution_count": 1,
   "metadata": {},
   "outputs": [
    {
     "name": "stderr",
     "output_type": "stream",
     "text": [
      "2024-03-15 15:10:10.849441: I external/local_tsl/tsl/cuda/cudart_stub.cc:32] Could not find cuda drivers on your machine, GPU will not be used.\n",
      "2024-03-15 15:10:10.854690: I external/local_tsl/tsl/cuda/cudart_stub.cc:32] Could not find cuda drivers on your machine, GPU will not be used.\n",
      "2024-03-15 15:10:10.940516: I tensorflow/core/platform/cpu_feature_guard.cc:210] This TensorFlow binary is optimized to use available CPU instructions in performance-critical operations.\n",
      "To enable the following instructions: AVX2 AVX512F FMA, in other operations, rebuild TensorFlow with the appropriate compiler flags.\n",
      "2024-03-15 15:10:12.204603: W tensorflow/compiler/tf2tensorrt/utils/py_utils.cc:38] TF-TRT Warning: Could not find TensorRT\n"
     ]
    }
   ],
   "source": [
    "import os\n",
    "# import pandas as pd\n",
    "import numpy as np\n",
    "import cv2\n",
    "\n",
    "import joblib\n",
    "from joblib import dump\n",
    "\n",
    "import sys\n",
    "sys.path.append(\"..\")\n",
    "# import utils.classifier_utils as clf\n",
    "# from utils.imutils import jimshow as show\n",
    "# from utils.imutils import jimshow_channel as show_channel\n",
    "\n",
    "# Machine learning stuff\n",
    "from sklearn import metrics\n",
    "from sklearn.neural_network import MLPClassifier\n",
    "from sklearn.metrics import accuracy_score\n",
    "\n",
    "from tensorflow.keras.datasets import cifar10\n",
    "\n",
    "# plotting tool\n",
    "import matplotlib.pyplot as plt\n",
    "\n",
    "# import argparse"
   ]
  },
  {
   "cell_type": "code",
   "execution_count": 2,
   "metadata": {},
   "outputs": [
    {
     "name": "stdout",
     "output_type": "stream",
     "text": [
      "Downloading data from https://www.cs.toronto.edu/~kriz/cifar-10-python.tar.gz\n",
      "\u001b[1m170498071/170498071\u001b[0m \u001b[32m━━━━━━━━━━━━━━━━━━━━\u001b[0m\u001b[37m\u001b[0m \u001b[1m8s\u001b[0m 0us/step\n"
     ]
    },
    {
     "name": "stderr",
     "output_type": "stream",
     "text": [
      "/home/ucloud/.local/lib/python3.10/site-packages/sklearn/neural_network/_multilayer_perceptron.py:698: UserWarning: Training interrupted by user.\n",
      "  warnings.warn(\"Training interrupted by user.\")\n"
     ]
    },
    {
     "name": "stdout",
     "output_type": "stream",
     "text": [
      "              precision    recall  f1-score   support\n",
      "\n",
      "    airplane       0.48      0.42      0.45      1000\n",
      "  automobile       0.54      0.39      0.45      1000\n",
      "        bird       0.32      0.35      0.33      1000\n",
      "         cat       0.28      0.23      0.25      1000\n",
      "        deer       0.37      0.25      0.30      1000\n",
      "         dog       0.37      0.41      0.39      1000\n",
      "        frog       0.43      0.50      0.46      1000\n",
      "       horse       0.46      0.51      0.48      1000\n",
      "        ship       0.47      0.59      0.52      1000\n",
      "       truck       0.46      0.55      0.50      1000\n",
      "\n",
      "    accuracy                           0.42     10000\n",
      "   macro avg       0.42      0.42      0.41     10000\n",
      "weighted avg       0.42      0.42      0.41     10000\n",
      "\n"
     ]
    }
   ],
   "source": [
    "# This function loads the data from the cifar10 dataset\n",
    "def load_data():\n",
    "    return cifar10.load_data()\n",
    "\n",
    "# This function preprocesses the images\n",
    "def preprocess_images(images):\n",
    "    image_list = []  # Empty list which stores the flattened images\n",
    "    \n",
    "    for image in images:\n",
    "        image_grey = cv2.cvtColor(image, cv2.COLOR_BGR2GRAY) # Converts the images into greyscale\n",
    "        image_scaled = image_grey / 255.0 # Scales the images\n",
    "        image_flattened = image_scaled.flatten()  # Flattens the images\n",
    "        image_list.append(image_flattened)  # Appends the flattened images to the image_list\n",
    "    images_processed = np.array(image_list) # Converts the list of flattened images to a np array\n",
    "    return images_processed\n",
    "\n",
    "# This function trains the logistic regression model\n",
    "def train_model(X_train_processed, y_train_processed):\n",
    "        return MLPClassifier(activation = \"relu\", # maybe change this to ReLU?\n",
    "                            hidden_layer_sizes = (128,), # make bigger hidden layer\n",
    "                            max_iter=1000,\n",
    "                            random_state = 42, early_stopping=True).fit(X_train_processed, y_train_processed)\n",
    "\n",
    "# This function evaluates the performance of the trained classifier on the test dataset and produces a classification report\n",
    "def evaluate_model(y_test_processed, X_test_processed, classifier, labels):\n",
    "    return metrics.classification_report(y_test_processed, classifier.predict(X_test_processed), target_names=labels)\n",
    "    \n",
    "\n",
    "# This function saves the classification report and the logistic regression classifier model\n",
    "def saving_report(classifier_metrics, classifier, report_path, model_path):\n",
    "\n",
    "    # Opens the file in the out folder in write mode and writes the classification metrics to it.\n",
    "    with open(report_path, \"w\") as file:\n",
    "        file.write(classifier_metrics)\n",
    "    \n",
    "    # Saves the trained classifier in the models folder\n",
    "    joblib.dump(classifier, model_path)\n",
    "\n",
    "def main():\n",
    "    # Creates a filepath for each directory \n",
    "    out_folder_path = os.path.join(\"..\", \"out\", \"neural_network\")\n",
    "    models_folder_path = os.path.join(\"..\",\"models\", \"neural_network\")\n",
    "\n",
    "    # If the directory does not exist, make the directory\n",
    "    os.makedirs(out_folder_path, exist_ok=True)\n",
    "    os.makedirs(models_folder_path, exist_ok=True)\n",
    "\n",
    "    # Filepath for each saved file\n",
    "    model_path = os.path.join(\"..\", \"models\", \"neural_network\", \"neural_network_classifier.joblib\")\n",
    "    report_path = os.path.join(\"..\",\"out\", \"neural_network\", \"classification_report.txt\")\n",
    "    # plot_path = os.path.join(\"..\",\"out\", \"logistic_regression\", \"_______\")\n",
    "  \n",
    "    # Loading the data\n",
    "    (X_train, y_train), (X_test, y_test) = load_data()\n",
    "\n",
    "    # List of labels\n",
    "    labels = [\"airplane\", \"automobile\", \"bird\", \"cat\", \"deer\", \"dog\", \"frog\", \"horse\", \"ship\", \"truck\"]\n",
    "\n",
    "    # Preprocessing the training and test images\n",
    "    X_train_processed = preprocess_images(X_train)\n",
    "    X_test_processed = preprocess_images(X_test)\n",
    "    y_train_processed = y_train.flatten()\n",
    "    y_test_processed = y_test.flatten()\n",
    "\n",
    "    #Training the neural network \n",
    "    classifier = train_model(X_train_processed, y_train_processed)\n",
    "\n",
    "    # Creating the classification report\n",
    "    classifier_metrics = evaluate_model(y_test_processed, X_test_processed, classifier, labels)\n",
    "\n",
    "    print(classifier_metrics)\n",
    "    # # Saving the classification report and the neural network model\n",
    "    saving_report(classifier_metrics, classifier, report_path, model_path)\n",
    "\n",
    "if __name__ == \"__main__\":\n",
    "    main()"
   ]
  }
 ],
 "metadata": {
  "kernelspec": {
   "display_name": "Python 3",
   "language": "python",
   "name": "python3"
  },
  "language_info": {
   "codemirror_mode": {
    "name": "ipython",
    "version": 3
   },
   "file_extension": ".py",
   "mimetype": "text/x-python",
   "name": "python",
   "nbconvert_exporter": "python",
   "pygments_lexer": "ipython3",
   "version": "3.10.12"
  }
 },
 "nbformat": 4,
 "nbformat_minor": 2
}
