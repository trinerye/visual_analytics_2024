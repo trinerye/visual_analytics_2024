{
 "cells": [
  {
   "cell_type": "code",
   "execution_count": 3,
   "metadata": {},
   "outputs": [
    {
     "name": "stderr",
     "output_type": "stream",
     "text": [
      "2024-03-15 12:54:58.659877: I external/local_tsl/tsl/cuda/cudart_stub.cc:32] Could not find cuda drivers on your machine, GPU will not be used.\n",
      "2024-03-15 12:54:58.663736: I external/local_tsl/tsl/cuda/cudart_stub.cc:32] Could not find cuda drivers on your machine, GPU will not be used.\n",
      "2024-03-15 12:54:58.718584: I tensorflow/core/platform/cpu_feature_guard.cc:210] This TensorFlow binary is optimized to use available CPU instructions in performance-critical operations.\n",
      "To enable the following instructions: AVX2 AVX512F FMA, in other operations, rebuild TensorFlow with the appropriate compiler flags.\n",
      "2024-03-15 12:54:59.767693: W tensorflow/compiler/tf2tensorrt/utils/py_utils.cc:38] TF-TRT Warning: Could not find TensorRT\n"
     ]
    }
   ],
   "source": [
    "import os\n",
    "# import pandas as pd\n",
    "import numpy as np\n",
    "import cv2\n",
    "\n",
    "import joblib\n",
    "from joblib import dump\n",
    "\n",
    "import sys\n",
    "sys.path.append(\"..\")\n",
    "# import utils.classifier_utils as clf\n",
    "# from utils.imutils import jimshow as show\n",
    "# from utils.imutils import jimshow_channel as show_channel\n",
    "\n",
    "# Machine learning stuff\n",
    "from sklearn import metrics\n",
    "from sklearn.neural_network import MLPClassifier\n",
    "from sklearn.metrics import accuracy_score\n",
    "\n",
    "from tensorflow.keras.datasets import cifar10\n",
    "\n",
    "# plotting tool\n",
    "import matplotlib.pyplot as plt\n",
    "\n",
    "# import argparse"
   ]
  },
  {
   "cell_type": "code",
   "execution_count": 7,
   "metadata": {},
   "outputs": [
    {
     "name": "stderr",
     "output_type": "stream",
     "text": [
      "/home/ucloud/.local/lib/python3.10/site-packages/sklearn/neural_network/_multilayer_perceptron.py:698: UserWarning: Training interrupted by user.\n",
      "  warnings.warn(\"Training interrupted by user.\")\n"
     ]
    },
    {
     "ename": "AttributeError",
     "evalue": "'MLPClassifier' object has no attribute '_best_coefs'",
     "output_type": "error",
     "traceback": [
      "\u001b[0;31m---------------------------------------------------------------------------\u001b[0m",
      "\u001b[0;31mAttributeError\u001b[0m                            Traceback (most recent call last)",
      "\u001b[1;32m/work/visual_analytics/visual_analytics_2024/assignment_2/src/neural_network.ipynb Cell 2\u001b[0m line \u001b[0;36m7\n\u001b[1;32m     <a href='vscode-notebook-cell://app-5027853-0.cloud.sdu.dk/work/visual_analytics/visual_analytics_2024/assignment_2/src/neural_network.ipynb#W1sdnNjb2RlLXJlbW90ZQ%3D%3D?line=72'>73</a>\u001b[0m     saving_report(classifier_metrics, classifier, report_path, model_path)\n\u001b[1;32m     <a href='vscode-notebook-cell://app-5027853-0.cloud.sdu.dk/work/visual_analytics/visual_analytics_2024/assignment_2/src/neural_network.ipynb#W1sdnNjb2RlLXJlbW90ZQ%3D%3D?line=74'>75</a>\u001b[0m \u001b[39mif\u001b[39;00m \u001b[39m__name__\u001b[39m \u001b[39m==\u001b[39m \u001b[39m\"\u001b[39m\u001b[39m__main__\u001b[39m\u001b[39m\"\u001b[39m:\n\u001b[0;32m---> <a href='vscode-notebook-cell://app-5027853-0.cloud.sdu.dk/work/visual_analytics/visual_analytics_2024/assignment_2/src/neural_network.ipynb#W1sdnNjb2RlLXJlbW90ZQ%3D%3D?line=75'>76</a>\u001b[0m     main()\n",
      "\u001b[1;32m/work/visual_analytics/visual_analytics_2024/assignment_2/src/neural_network.ipynb Cell 2\u001b[0m line \u001b[0;36m6\n\u001b[1;32m     <a href='vscode-notebook-cell://app-5027853-0.cloud.sdu.dk/work/visual_analytics/visual_analytics_2024/assignment_2/src/neural_network.ipynb#W1sdnNjb2RlLXJlbW90ZQ%3D%3D?line=62'>63</a>\u001b[0m y_test_processed \u001b[39m=\u001b[39m y_test\u001b[39m.\u001b[39mflatten()\n\u001b[1;32m     <a href='vscode-notebook-cell://app-5027853-0.cloud.sdu.dk/work/visual_analytics/visual_analytics_2024/assignment_2/src/neural_network.ipynb#W1sdnNjb2RlLXJlbW90ZQ%3D%3D?line=64'>65</a>\u001b[0m \u001b[39m#Training the neural network \u001b[39;00m\n\u001b[0;32m---> <a href='vscode-notebook-cell://app-5027853-0.cloud.sdu.dk/work/visual_analytics/visual_analytics_2024/assignment_2/src/neural_network.ipynb#W1sdnNjb2RlLXJlbW90ZQ%3D%3D?line=65'>66</a>\u001b[0m classifier \u001b[39m=\u001b[39m train_model(X_train_processed, y_train_processed)\n\u001b[1;32m     <a href='vscode-notebook-cell://app-5027853-0.cloud.sdu.dk/work/visual_analytics/visual_analytics_2024/assignment_2/src/neural_network.ipynb#W1sdnNjb2RlLXJlbW90ZQ%3D%3D?line=67'>68</a>\u001b[0m \u001b[39m# Creating the classification report\u001b[39;00m\n\u001b[1;32m     <a href='vscode-notebook-cell://app-5027853-0.cloud.sdu.dk/work/visual_analytics/visual_analytics_2024/assignment_2/src/neural_network.ipynb#W1sdnNjb2RlLXJlbW90ZQ%3D%3D?line=68'>69</a>\u001b[0m classifier_metrics \u001b[39m=\u001b[39m evaluate_model(y_test_processed, X_test_processed, classifier, labels)\n",
      "\u001b[1;32m/work/visual_analytics/visual_analytics_2024/assignment_2/src/neural_network.ipynb Cell 2\u001b[0m line \u001b[0;36m2\n\u001b[1;32m     <a href='vscode-notebook-cell://app-5027853-0.cloud.sdu.dk/work/visual_analytics/visual_analytics_2024/assignment_2/src/neural_network.ipynb#W1sdnNjb2RlLXJlbW90ZQ%3D%3D?line=17'>18</a>\u001b[0m \u001b[39mdef\u001b[39;00m \u001b[39mtrain_model\u001b[39m(X_train_processed, y_train_processed):\n\u001b[1;32m     <a href='vscode-notebook-cell://app-5027853-0.cloud.sdu.dk/work/visual_analytics/visual_analytics_2024/assignment_2/src/neural_network.ipynb#W1sdnNjb2RlLXJlbW90ZQ%3D%3D?line=18'>19</a>\u001b[0m         \u001b[39mreturn\u001b[39;00m MLPClassifier(activation \u001b[39m=\u001b[39;49m \u001b[39m\"\u001b[39;49m\u001b[39mrelu\u001b[39;49m\u001b[39m\"\u001b[39;49m, \u001b[39m# maybe change this to ReLU?\u001b[39;49;00m\n\u001b[1;32m     <a href='vscode-notebook-cell://app-5027853-0.cloud.sdu.dk/work/visual_analytics/visual_analytics_2024/assignment_2/src/neural_network.ipynb#W1sdnNjb2RlLXJlbW90ZQ%3D%3D?line=19'>20</a>\u001b[0m                             hidden_layer_sizes \u001b[39m=\u001b[39;49m (\u001b[39m128\u001b[39;49m,), \u001b[39m# make bigger hidden layer\u001b[39;49;00m\n\u001b[1;32m     <a href='vscode-notebook-cell://app-5027853-0.cloud.sdu.dk/work/visual_analytics/visual_analytics_2024/assignment_2/src/neural_network.ipynb#W1sdnNjb2RlLXJlbW90ZQ%3D%3D?line=20'>21</a>\u001b[0m                             max_iter\u001b[39m=\u001b[39;49m\u001b[39m1000\u001b[39;49m,\n\u001b[0;32m---> <a href='vscode-notebook-cell://app-5027853-0.cloud.sdu.dk/work/visual_analytics/visual_analytics_2024/assignment_2/src/neural_network.ipynb#W1sdnNjb2RlLXJlbW90ZQ%3D%3D?line=21'>22</a>\u001b[0m                             random_state \u001b[39m=\u001b[39;49m \u001b[39m42\u001b[39;49m, early_stopping\u001b[39m=\u001b[39;49m\u001b[39mTrue\u001b[39;49;00m)\u001b[39m.\u001b[39;49mfit(X_train_processed, y_train_processed)\n",
      "File \u001b[0;32m~/.local/lib/python3.10/site-packages/sklearn/base.py:1474\u001b[0m, in \u001b[0;36m_fit_context.<locals>.decorator.<locals>.wrapper\u001b[0;34m(estimator, *args, **kwargs)\u001b[0m\n\u001b[1;32m   1467\u001b[0m     estimator\u001b[39m.\u001b[39m_validate_params()\n\u001b[1;32m   1469\u001b[0m \u001b[39mwith\u001b[39;00m config_context(\n\u001b[1;32m   1470\u001b[0m     skip_parameter_validation\u001b[39m=\u001b[39m(\n\u001b[1;32m   1471\u001b[0m         prefer_skip_nested_validation \u001b[39mor\u001b[39;00m global_skip_validation\n\u001b[1;32m   1472\u001b[0m     )\n\u001b[1;32m   1473\u001b[0m ):\n\u001b[0;32m-> 1474\u001b[0m     \u001b[39mreturn\u001b[39;00m fit_method(estimator, \u001b[39m*\u001b[39;49margs, \u001b[39m*\u001b[39;49m\u001b[39m*\u001b[39;49mkwargs)\n",
      "File \u001b[0;32m~/.local/lib/python3.10/site-packages/sklearn/neural_network/_multilayer_perceptron.py:752\u001b[0m, in \u001b[0;36mBaseMultilayerPerceptron.fit\u001b[0;34m(self, X, y)\u001b[0m\n\u001b[1;32m    734\u001b[0m \u001b[39m@_fit_context\u001b[39m(prefer_skip_nested_validation\u001b[39m=\u001b[39m\u001b[39mTrue\u001b[39;00m)\n\u001b[1;32m    735\u001b[0m \u001b[39mdef\u001b[39;00m \u001b[39mfit\u001b[39m(\u001b[39mself\u001b[39m, X, y):\n\u001b[1;32m    736\u001b[0m \u001b[39m    \u001b[39m\u001b[39m\"\"\"Fit the model to data matrix X and target(s) y.\u001b[39;00m\n\u001b[1;32m    737\u001b[0m \n\u001b[1;32m    738\u001b[0m \u001b[39m    Parameters\u001b[39;00m\n\u001b[0;32m   (...)\u001b[0m\n\u001b[1;32m    750\u001b[0m \u001b[39m        Returns a trained MLP model.\u001b[39;00m\n\u001b[1;32m    751\u001b[0m \u001b[39m    \"\"\"\u001b[39;00m\n\u001b[0;32m--> 752\u001b[0m     \u001b[39mreturn\u001b[39;00m \u001b[39mself\u001b[39;49m\u001b[39m.\u001b[39;49m_fit(X, y, incremental\u001b[39m=\u001b[39;49m\u001b[39mFalse\u001b[39;49;00m)\n",
      "File \u001b[0;32m~/.local/lib/python3.10/site-packages/sklearn/neural_network/_multilayer_perceptron.py:476\u001b[0m, in \u001b[0;36mBaseMultilayerPerceptron._fit\u001b[0;34m(self, X, y, incremental)\u001b[0m\n\u001b[1;32m    474\u001b[0m \u001b[39m# Run the Stochastic optimization solver\u001b[39;00m\n\u001b[1;32m    475\u001b[0m \u001b[39mif\u001b[39;00m \u001b[39mself\u001b[39m\u001b[39m.\u001b[39msolver \u001b[39min\u001b[39;00m _STOCHASTIC_SOLVERS:\n\u001b[0;32m--> 476\u001b[0m     \u001b[39mself\u001b[39;49m\u001b[39m.\u001b[39;49m_fit_stochastic(\n\u001b[1;32m    477\u001b[0m         X,\n\u001b[1;32m    478\u001b[0m         y,\n\u001b[1;32m    479\u001b[0m         activations,\n\u001b[1;32m    480\u001b[0m         deltas,\n\u001b[1;32m    481\u001b[0m         coef_grads,\n\u001b[1;32m    482\u001b[0m         intercept_grads,\n\u001b[1;32m    483\u001b[0m         layer_units,\n\u001b[1;32m    484\u001b[0m         incremental,\n\u001b[1;32m    485\u001b[0m     )\n\u001b[1;32m    487\u001b[0m \u001b[39m# Run the LBFGS solver\u001b[39;00m\n\u001b[1;32m    488\u001b[0m \u001b[39melif\u001b[39;00m \u001b[39mself\u001b[39m\u001b[39m.\u001b[39msolver \u001b[39m==\u001b[39m \u001b[39m\"\u001b[39m\u001b[39mlbfgs\u001b[39m\u001b[39m\"\u001b[39m:\n",
      "File \u001b[0;32m~/.local/lib/python3.10/site-packages/sklearn/neural_network/_multilayer_perceptron.py:702\u001b[0m, in \u001b[0;36mBaseMultilayerPerceptron._fit_stochastic\u001b[0;34m(self, X, y, activations, deltas, coef_grads, intercept_grads, layer_units, incremental)\u001b[0m\n\u001b[1;32m    698\u001b[0m     warnings\u001b[39m.\u001b[39mwarn(\u001b[39m\"\u001b[39m\u001b[39mTraining interrupted by user.\u001b[39m\u001b[39m\"\u001b[39m)\n\u001b[1;32m    700\u001b[0m \u001b[39mif\u001b[39;00m early_stopping:\n\u001b[1;32m    701\u001b[0m     \u001b[39m# restore best weights\u001b[39;00m\n\u001b[0;32m--> 702\u001b[0m     \u001b[39mself\u001b[39m\u001b[39m.\u001b[39mcoefs_ \u001b[39m=\u001b[39m \u001b[39mself\u001b[39;49m\u001b[39m.\u001b[39;49m_best_coefs\n\u001b[1;32m    703\u001b[0m     \u001b[39mself\u001b[39m\u001b[39m.\u001b[39mintercepts_ \u001b[39m=\u001b[39m \u001b[39mself\u001b[39m\u001b[39m.\u001b[39m_best_intercepts\n",
      "\u001b[0;31mAttributeError\u001b[0m: 'MLPClassifier' object has no attribute '_best_coefs'"
     ]
    }
   ],
   "source": [
    "# This function loads the data from the cifar10 dataset\n",
    "def load_data():\n",
    "    return cifar10.load_data()\n",
    "\n",
    "# This function preprocesses the images\n",
    "def preprocess_images(images):\n",
    "    image_list = []  # Empty list which stores the flattened images\n",
    "    \n",
    "    for image in images:\n",
    "        image_grey = cv2.cvtColor(image, cv2.COLOR_BGR2GRAY) # Converts the images into greyscale\n",
    "        image_scaled = image_grey / 255.0 # Scales the images\n",
    "        image_flattened = image_scaled.flatten()  # Flattens the images\n",
    "        image_list.append(image_flattened)  # Appends the flattened images to the image_list\n",
    "    images_processed = np.array(image_list) # Converts the list of flattened images to a np array\n",
    "    return images_processed\n",
    "\n",
    "# This function trains the logistic regression model\n",
    "def train_model(X_train_processed, y_train_processed):\n",
    "        return MLPClassifier(activation = \"relu\", # maybe change this to ReLU?\n",
    "                            hidden_layer_sizes = (128,), # make bigger hidden layer\n",
    "                            max_iter=1000,\n",
    "                            random_state = 42, early_stopping=True).fit(X_train_processed, y_train_processed)\n",
    "\n",
    "# This function evaluates the performance of the trained classifier on the test dataset and produces a classification report\n",
    "def evaluate_model(y_test_processed, X_test_processed, classifier, labels):\n",
    "    return metrics.classification_report(y_test_processed, classifier.predict(X_test_processed), target_names=labels)\n",
    "    \n",
    "\n",
    "# This function saves the classification report and the logistic regression classifier model\n",
    "def saving_report(classifier_metrics, classifier, report_path, model_path):\n",
    "\n",
    "    # Opens the file in the out folder in write mode and writes the classification metrics to it.\n",
    "    with open(report_path, \"w\") as file:\n",
    "        file.write(classifier_metrics)\n",
    "    \n",
    "    # Saves the trained classifier in the models folder\n",
    "    joblib.dump(classifier, model_path)\n",
    "\n",
    "def main():\n",
    "    # Creates a filepath for each directory \n",
    "    out_folder_path = os.path.join(\"..\", \"out\", \"neural_network\")\n",
    "    models_folder_path = os.path.join(\"..\",\"models\", \"neural_network\")\n",
    "\n",
    "    # If the directory does not exist, make the directory\n",
    "    os.makedirs(out_folder_path, exist_ok=True)\n",
    "    os.makedirs(models_folder_path, exist_ok=True)\n",
    "\n",
    "    # Filepath for each saved file\n",
    "    model_path = os.path.join(\"..\", \"models\", \"neural_network\", \"neural_network_classifier.joblib\")\n",
    "    report_path = os.path.join(\"..\",\"out\", \"neural_network\", \"classification_report.txt\")\n",
    "    # plot_path = os.path.join(\"..\",\"out\", \"logistic_regression\", \"_______\")\n",
    "  \n",
    "    # Loading the data\n",
    "    (X_train, y_train), (X_test, y_test) = load_data()\n",
    "\n",
    "    # List of labels\n",
    "    labels = [\"airplane\", \"automobile\", \"bird\", \"cat\", \"deer\", \"dog\", \"frog\", \"horse\", \"ship\", \"truck\"]\n",
    "\n",
    "    # Preprocessing the training and test images\n",
    "    X_train_processed = preprocess_images(X_train)\n",
    "    X_test_processed = preprocess_images(X_test)\n",
    "    y_train_processed = y_train.flatten()\n",
    "    y_test_processed = y_test.flatten()\n",
    "\n",
    "    #Training the neural network \n",
    "    classifier = train_model(X_train_processed, y_train_processed)\n",
    "\n",
    "    # Creating the classification report\n",
    "    classifier_metrics = evaluate_model(y_test_processed, X_test_processed, classifier, labels)\n",
    "\n",
    "    print(classifier_metrics)\n",
    "    # # Saving the classification report and the neural network model\n",
    "    saving_report(classifier_metrics, classifier, report_path, model_path)\n",
    "\n",
    "if __name__ == \"__main__\":\n",
    "    main()"
   ]
  }
 ],
 "metadata": {
  "kernelspec": {
   "display_name": "Python 3",
   "language": "python",
   "name": "python3"
  },
  "language_info": {
   "codemirror_mode": {
    "name": "ipython",
    "version": 3
   },
   "file_extension": ".py",
   "mimetype": "text/x-python",
   "name": "python",
   "nbconvert_exporter": "python",
   "pygments_lexer": "ipython3",
   "version": "3.10.12"
  }
 },
 "nbformat": 4,
 "nbformat_minor": 2
}
